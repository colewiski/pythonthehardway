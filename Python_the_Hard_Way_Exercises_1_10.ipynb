{
  "cells": [
    {
      "cell_type": "markdown",
      "metadata": {
        "id": "view-in-github",
        "colab_type": "text"
      },
      "source": [
        "<a href=\"https://colab.research.google.com/github/colewiski/pythonthehardway/blob/main/Python_the_Hard_Way_Exercises_1_10.ipynb\" target=\"_parent\"><img src=\"https://colab.research.google.com/assets/colab-badge.svg\" alt=\"Open In Colab\"/></a>"
      ]
    },
    {
      "cell_type": "code",
      "execution_count": null,
      "metadata": {
        "id": "6d5rAhAKVJHz",
        "outputId": "c4d1986c-6555-413a-9bb3-a14eada88a1f"
      },
      "outputs": [
        {
          "name": "stdout",
          "output_type": "stream",
          "text": [
            "Hello world!\n",
            "Hello Again!\n",
            "I like typing this.\n",
            "This is fun.\n",
            "Yay! Printing.\n",
            "I'd much rather you 'not'.\n",
            "I \"said\" do not touch this.\n"
          ]
        }
      ],
      "source": [
        "# Exercise 1\n",
        "# A good first program\n",
        "\n",
        "print(\"Hello world!\")\n",
        "print(\"Hello Again!\")\n",
        "print(\"I like typing this.\")\n",
        "print(\"This is fun.\")\n",
        "print('Yay! Printing.')\n",
        "print(\"I'd much rather you 'not'.\")\n",
        "print('I \"said\" do not touch this.')\n",
        "\n",
        "'''\n",
        "Study Drills\n",
        "    1. Make your script print another line.\n",
        "    2. Make your script print only one of the lines.\n",
        "    3. Put a # (octothorpe) character at the beginning of a line. What did it do? Try to find out what this character does.\n",
        "'''"
      ]
    },
    {
      "cell_type": "code",
      "execution_count": null,
      "metadata": {
        "id": "dSe9Y5tPVJH0",
        "outputId": "e18c7e7b-f981-4b7d-e2f6-e321d7fcb11d"
      },
      "outputs": [
        {
          "name": "stdout",
          "output_type": "stream",
          "text": [
            "I could have code like this.\n",
            "This will run.\n"
          ]
        }
      ],
      "source": [
        "# Exercise 2\n",
        "# Comments and Pound Characters\n",
        "\n",
        "# A comment, this is so you can read your program later.\n",
        "# Anything after the # is ignored by python.\n",
        "\n",
        "print(\"I could have code like this.\") # and the comment after is ignored\n",
        "\n",
        "# You can also use a comment to \"disable\" or comment out code.\n",
        "# print(\"This won't run.\")\n",
        "\n",
        "print(\"This will run.\")\n",
        "\n",
        "'''\n",
        "Study Drills\n",
        "    1. Find out if you were wright about what the # character does and make sure you know what it's called (octothorpe or pound character).\n",
        "    2. Take your ex2.py exercise file and review each line going backward. Start at the last line, and check each word in reverse against what you should have typed.\n",
        "    3. Did you find more mistakes? Fix them.\n",
        "    4. Read what you typed above out loud, including saying each character by its name. Did you find more mistakes? Fix them.\n",
        "'''"
      ]
    },
    {
      "cell_type": "code",
      "execution_count": null,
      "metadata": {
        "id": "7M01dL7wVJH1",
        "outputId": "16dcb384-1e05-47c2-c5b5-535bf70f096d"
      },
      "outputs": [
        {
          "name": "stdout",
          "output_type": "stream",
          "text": [
            "I will now count my chickens:\n",
            "Hens 30.0\n",
            "Roosters 97\n",
            "Now I will count the eggs:\n",
            "6.75\n",
            "Is it true that 3 + 2 < 5 - 7?\n",
            "False\n",
            "What is 3 + 2? 5\n",
            "What is 5 - 7? -2\n",
            "Oh, that's why it's False.\n",
            "How about some more.\n",
            "Is it greater? True\n",
            "Is it greater or equal? True\n",
            "Is it less or equal? False\n"
          ]
        }
      ],
      "source": [
        "# Exercise 3\n",
        "# Number and Math\n",
        "\n",
        "print(\"I will now count my chickens:\")\n",
        "\n",
        "print(\"Hens\", 25 + 30 / 6)\n",
        "print(\"Roosters\", 100 - 25 * 3 % 4)\n",
        "\n",
        "print(\"Now I will count the eggs:\")\n",
        "\n",
        "print(3 + 2 + 1 - 5 + 4 % 2 - 1 / 4 + 6)\n",
        "\n",
        "print(\"Is it true that 3 + 2 < 5 - 7?\")\n",
        "\n",
        "print(3 + 2 < 5 - 7)\n",
        "\n",
        "print(\"What is 3 + 2?\", 3 + 2)\n",
        "print(\"What is 5 - 7?\", 5 - 7)\n",
        "\n",
        "print(\"Oh, that's why it's False.\")\n",
        "\n",
        "print(\"How about some more.\")\n",
        "\n",
        "print(\"Is it greater?\", 5 > -2)\n",
        "print(\"Is it greater or equal?\", 5 >= -2)\n",
        "print(\"Is it less or equal?\", 5 <= -2)\n",
        "\n",
        "'''\n",
        "Study Drills\n",
        "    1. Above each line, use the # to write a comment to yourself explaining what the line does.\n",
        "    2. Remember in Exercise 0 when you started python3.x? Start python3.x this way again and, using the math operators, use Python as a calculator.\n",
        "    3. Find something you need to calculate and write a new .py file that does it.\n",
        "    4. Rewrite exercise 3 to use floating point numbers so it's more accurate. 20.0 is a\n",
        "'''"
      ]
    },
    {
      "cell_type": "code",
      "execution_count": null,
      "metadata": {
        "id": "-ot4cpu6VJH1",
        "outputId": "761b8c5b-a965-4da1-9631-f110335922ac"
      },
      "outputs": [
        {
          "name": "stdout",
          "output_type": "stream",
          "text": [
            "There are  100  cars available.\n",
            "There are only  30  drivers available.\n",
            "There will be  70  empty cars today.\n",
            "We can transport  120.0  people today.\n",
            "We have  90  to carpool today.\n",
            "We need to put about  3.0  in each car.\n"
          ]
        }
      ],
      "source": [
        "# Exercise 4\n",
        "# Variables and Names\n",
        "\n",
        "cars = 100\n",
        "space_in_a_car = 4.0\n",
        "drivers = 30\n",
        "passengers = 90\n",
        "cars_not_driven = cars - drivers\n",
        "cars_driven = drivers\n",
        "carpool_capacity = cars_driven * space_in_a_car\n",
        "average_passengers_per_car = passengers / cars_driven\n",
        "\n",
        "\n",
        "print(\"There are \", cars, \" cars available.\")\n",
        "print(\"There are only \", drivers, \" drivers available.\")\n",
        "print(\"There will be \", cars_not_driven, \" empty cars today.\")\n",
        "print(\"We can transport \", carpool_capacity, \" people today.\")\n",
        "print(\"We have \", passengers, \" to carpool today.\")\n",
        "print(\"We need to put about \", average_passengers_per_car, \" in each car.\")"
      ]
    },
    {
      "cell_type": "code",
      "execution_count": null,
      "metadata": {
        "id": "u8XHTVGmVJH2",
        "outputId": "c3e5d6d9-1d84-4fed-b1c7-84d269e08282"
      },
      "outputs": [
        {
          "name": "stdout",
          "output_type": "stream",
          "text": [
            "Let's talk about Zed A. Shaw.\n",
            "He's 74 inches tall.\n",
            "He's 180 pounds heavy.\n",
            "Actually that's not too heavy.\n",
            "He's got Blue eyes and Brown hair.\n",
            "His teeth are usuallyl White depending on the coffee.\n",
            "If I add 35, 74, and 180 I get 289.\n"
          ]
        }
      ],
      "source": [
        "# Exercise 5\n",
        "# More Variables and Printing\n",
        "\n",
        "my_name = 'Zed A. Shaw'\n",
        "my_age = 35 # not a lie\n",
        "my_height = 74 #inches\n",
        "my_weight = 180 # lbs\n",
        "my_eyes = 'Blue'\n",
        "my_teeth = 'White'\n",
        "my_hair = 'Brown'\n",
        "\n",
        "print(f\"Let's talk about {my_name}.\")\n",
        "print(f\"He's {my_height} inches tall.\")\n",
        "print(f\"He's {my_weight} pounds heavy.\")\n",
        "print(\"Actually that's not too heavy.\")\n",
        "print(f\"He's got {my_eyes} eyes and {my_hair} hair.\")\n",
        "print(f\"His teeth are usuallyl {my_teeth} depending on the coffee.\")\n",
        "\n",
        "# this line is tricky, try to get it exactly right\n",
        "total = my_age + my_height + my_weight\n",
        "print(f\"If I add {my_age}, {my_height}, and {my_weight} I get {total}.\")"
      ]
    },
    {
      "cell_type": "code",
      "execution_count": null,
      "metadata": {
        "id": "VvZasVqpVJH2",
        "outputId": "aac35004-47ac-4624-953c-2556a4b2f561"
      },
      "outputs": [
        {
          "name": "stdout",
          "output_type": "stream",
          "text": [
            "There are 10 types of people.\n",
            "Those who know binary and those who don't.\n",
            "I said: There are 10 types of people.\n",
            "I also said: 'Those who know binary and those who don't.'\n",
            "Isn't that joke so funny?! False\n"
          ]
        }
      ],
      "source": [
        "# Exercise 6\n",
        "# Strings and Text\n",
        "\n",
        "types_of_people = 10\n",
        "x = f\"There are {types_of_people} types of people.\"\n",
        "\n",
        "binary = \"binary\"\n",
        "do_not = \"don't\"\n",
        "y = f\"Those who know {binary} and those who {do_not}.\"\n",
        "\n",
        "print(x)\n",
        "print(y)\n",
        "\n",
        "print(f\"I said: {x}\")\n",
        "print(f\"I also said: '{y}'\")\n",
        "\n",
        "hilarious = False\n",
        "joke_evaluation = \"Isn't that joke so funny?! {}\"\n",
        "\n",
        "print(joke_evaluation.format(hilarious))\n",
        "\n",
        "w = \"This is the left side of...\"\n",
        "e = \"a string with a right side.\"\n",
        "\n",
        "'''\n",
        "Study Drills:\n",
        "    1. Go through this program and write a comment above each line explaining it.\n",
        "    2. Find all the places where a string is put inside a string. There are four places.\n",
        "    3. Are you sure there are only four places? How do you know? Maybe I like lying.\n",
        "    4. Explain why adding the two strings w and e with + makes a longer string.\n",
        "'''"
      ]
    },
    {
      "cell_type": "code",
      "execution_count": null,
      "metadata": {
        "id": "yQjbtCHhVJH2",
        "outputId": "cb58222c-7c23-479a-c8aa-de004959d274"
      },
      "outputs": [
        {
          "name": "stdout",
          "output_type": "stream",
          "text": [
            "Mary had a little lamb.\n",
            "It's fleece was white as snow.\n",
            "And everywhere that Mary went.\n",
            "..........\n",
            "Cheese Burger\n"
          ]
        }
      ],
      "source": [
        "# Exercise 7\n",
        "# More Printing\n",
        "\n",
        "print(\"Mary had a little lamb.\")\n",
        "print(\"It's fleece was white as {}.\".format('snow'))\n",
        "print(\"And everywhere that Mary went.\")\n",
        "print(\".\" * 10) # What'd that do?\n",
        "\n",
        "end1 = \"C\"\n",
        "end2 = \"h\"\n",
        "end3 = \"e\"\n",
        "end4 = \"e\"\n",
        "end5 = \"s\"\n",
        "end6 = \"e\"\n",
        "end7 = \"B\"\n",
        "end8 = \"u\"\n",
        "end9 = \"r\"\n",
        "end10 = \"g\"\n",
        "end11 = \"e\"\n",
        "end12 = \"r\"\n",
        "\n",
        "# watch end = ' ' at the end. try removing it to see what happens\n",
        "print(end1 + end2 + end3 + end4 + end5 + end6, end=' ')\n",
        "print(end7 + end8 + end9 + end10 + end11 + end12)\n",
        "\n",
        "'''\n",
        "Study Drills:\n",
        "    1. Go back through and write a comment on what each line does.\n",
        "    2. Read each one backward or out loud to find your errors.\n",
        "    3. From now on, when you make mistakes, write down on a piece of paper what kind of mistake you made. (Journal!)\n",
        "    4. When you go to the next exercise, look at the mistakes you have made and try not to make them in this new one.\n",
        "    5. Remember that everyone makes mistakes. Programmers are like magicians who fool everyone into thinking they are perfect and never wrong, but it's all an act. They make mistakes all the time.\n",
        "'''"
      ]
    },
    {
      "cell_type": "code",
      "execution_count": null,
      "metadata": {
        "id": "QevpZSsqVJH2",
        "outputId": "56d75990-892d-4b3c-e57a-a9a989957e07"
      },
      "outputs": [
        {
          "name": "stdout",
          "output_type": "stream",
          "text": [
            "1 2 3 4\n",
            "one two three four\n",
            "True False False True\n",
            "{} {} {} {} {} {} {} {} {} {} {} {} {} {} {} {}\n",
            "Try your Own text here Maybe a poem Or a song about fear\n"
          ]
        }
      ],
      "source": [
        "# Exercise 8\n",
        "# Printing, Printing\n",
        "\n",
        "formatter = \"{} {} {} {}\"\n",
        "\n",
        "print(formatter.format(1, 2, 3, 4))\n",
        "print(formatter.format(\"one\", \"two\", \"three\", \"four\"))\n",
        "print(formatter.format(True, False, False, True))\n",
        "print(formatter.format(formatter, formatter, formatter, formatter))\n",
        "print(formatter.format(\n",
        "    \"Try your\",\n",
        "    \"Own text here\",\n",
        "    \"Maybe a poem\",\n",
        "    \"Or a song about fear\"\n",
        "))\n",
        "\n",
        "# \"Playing Kenshi all day is kinda crazy idea.\",\n",
        "# \"But if I can play during grinding phases and mining gold\",\n",
        "# \"I'll be able to program, practicing Python, and play video games at the same time!\"\n",
        "# It wasn't the comments, I was missing a callback for the formatter!\n",
        "\n",
        "'''\n",
        "Study Drills:\n",
        "    Do your checks, write down your mistakes, and try not to make the same mistakes on the next exercise.\n",
        "    In other words, repeat the Study Drills from Exercise 7.\n",
        "'''"
      ]
    },
    {
      "cell_type": "code",
      "execution_count": null,
      "metadata": {
        "id": "67enYpw6VJH3",
        "outputId": "58799e1f-71a4-4954-fc75-27dfae2943c2"
      },
      "outputs": [
        {
          "name": "stdout",
          "output_type": "stream",
          "text": [
            "Here are the days:  Mon Tue Wed Thu Fri Sat Sun\n",
            "Here are the months:  Jan\n",
            "Feb\n",
            "Mar\n",
            "Apr\n",
            "May\n",
            "Jun\n",
            "Jul\n",
            "Aug\n",
            "\n",
            "There's something going on here.\n",
            "With the three double-quotes.\n",
            "We'll be able to type as much as we like.\n",
            "Even 4 lines if we want, or 5, or 6.\n",
            "\n"
          ]
        },
        {
          "data": {
            "text/plain": [
              "'\\nStudy Drills:\\nCheck your work, write down your mistakes, try not to make them on the next exercise.\\nAre you breaking your code and then fixing it?\\nIn other words,\\n    repeat study drills from Exercise 7.\\n'"
            ]
          },
          "execution_count": 4,
          "metadata": {},
          "output_type": "execute_result"
        }
      ],
      "source": [
        "# Exercise 9\n",
        "# Printing, Printing, Printing\n",
        "\n",
        "# Here's some new strange stuff, remember type it exactly.\n",
        "\n",
        "days = \"Mon Tue Wed Thu Fri Sat Sun\"\n",
        "months = \"Jan\\nFeb\\nMar\\nApr\\nMay\\nJun\\nJul\\nAug\"\n",
        "\n",
        "print(\"Here are the days: \", days)\n",
        "print(\"Here are the months: \", months)\n",
        "\n",
        "print(\"\"\"\n",
        "There's something going on here.\n",
        "With the three double-quotes.\n",
        "We'll be able to type as much as we like.\n",
        "Even 4 lines if we want, or 5, or 6.\n",
        "\"\"\")\n",
        "\n",
        "'''\n",
        "Study Drills:\n",
        "Check your work, write down your mistakes, try not to make them on the next exercise.\n",
        "Are you breaking your code and then fixing it?\n",
        "In other words,\n",
        "    repeat study drills from Exercise 7.\n",
        "'''"
      ]
    },
    {
      "cell_type": "code",
      "execution_count": null,
      "metadata": {
        "id": "yCij0nfbVJH3",
        "outputId": "285d1d00-6164-4031-9a28-36202f0a62c6"
      },
      "outputs": [
        {
          "ename": "SyntaxError",
          "evalue": "(unicode error) 'unicodeescape' codec can't decode bytes in position 363-370: unknown Unicode character name (2150862178.py, line 39)",
          "output_type": "error",
          "traceback": [
            "\u001b[1;36m  Cell \u001b[1;32mIn[1], line 39\u001b[1;36m\u001b[0m\n\u001b[1;33m    '''\u001b[0m\n\u001b[1;37m       ^\u001b[0m\n\u001b[1;31mSyntaxError\u001b[0m\u001b[1;31m:\u001b[0m (unicode error) 'unicodeescape' codec can't decode bytes in position 363-370: unknown Unicode character name\n"
          ]
        }
      ],
      "source": [
        "# Exercise 10\n",
        "# What Was That?\n",
        "\n",
        "# In exercise 9, we used a lot of different implementations of the \\n text, which puts a new line.\n",
        "\n",
        "tabby_cat = \"\\tI'm tabbed in.\"\n",
        "persian_cat = \"I'm split\\non a line.\"\n",
        "backslash_cat= \"I'm \\\\ a \\\\ cat.\"\n",
        "\n",
        "fat_cat = \"\"\"\n",
        "I'll do a list:\n",
        "\\t* Cat Food\n",
        "\\t* Fishies\n",
        "\\t* Catnip\\n\\t* Grass\n",
        "\"\"\"\n",
        "\n",
        "print(tabby_cat)\n",
        "print(persian_cat)\n",
        "print(backslash_cat)\n",
        "print(fat_cat)\n",
        "\n",
        "'''\n",
        "Escape Sequences:\n",
        "    # \\t* \\\\                  Backslash \\\n",
        "    # \\t* \\'                  Single-quote (')\n",
        "    # \\t* \\\"                  Double-quote (\")\n",
        "    # \\t* \\a                  ASCII bell (BEL)\n",
        "    # \\t* \\b                  ASCII backspace (BS)\n",
        "    # \\t* \\f                  ASCII formfeed (FF)\n",
        "    # \\t* \\n                  ASCII linefeed (LF)\n",
        "    # \\t* \\N{name}            Character named name in the Unicode database (Unicode only)\n",
        "    # \\t* \\r                  Carriage return (CR)\n",
        "    # \\t* \\t                  Horizontal tab (TAB)\n",
        "    # \\t* \\uxxxx              Character with 16-bit hex value xxxx\n",
        "    # \\t* \\Uxxxxxxxx          Character with 32-bit hex value xxxxxxxx\n",
        "    # \\t* \\v                  ASCI vertical tab (VT)\n",
        "    # \\t* \\000                Character with octal value 000\n",
        "    # \\t* \\xhh                Character with hex value hh\n",
        "'''"
      ]
    }
  ],
  "metadata": {
    "kernelspec": {
      "display_name": "Python 3",
      "language": "python",
      "name": "python3"
    },
    "language_info": {
      "codemirror_mode": {
        "name": "ipython",
        "version": 3
      },
      "file_extension": ".py",
      "mimetype": "text/x-python",
      "name": "python",
      "nbconvert_exporter": "python",
      "pygments_lexer": "ipython3",
      "version": "3.11.3"
    },
    "orig_nbformat": 4,
    "colab": {
      "provenance": [],
      "include_colab_link": true
    }
  },
  "nbformat": 4,
  "nbformat_minor": 0
}